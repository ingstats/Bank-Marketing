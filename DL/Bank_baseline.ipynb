{
  "nbformat": 4,
  "nbformat_minor": 0,
  "metadata": {
    "colab": {
      "provenance": []
    },
    "kernelspec": {
      "name": "python3",
      "display_name": "Python 3"
    },
    "language_info": {
      "name": "python"
    }
  },
  "cells": [
    {
      "cell_type": "markdown",
      "source": [
        "[1] Import & Global Settings"
      ],
      "metadata": {
        "id": "yVsNTeFNbbAt"
      }
    },
    {
      "cell_type": "code",
      "source": [
        "# 📦 필수 라이브러리 로드\n",
        "import pandas as pd\n",
        "import numpy as np\n",
        "import torch\n",
        "import torch.nn as nn\n",
        "from torch.utils.data import Dataset, DataLoader\n",
        "from sklearn.model_selection import train_test_split\n",
        "from sklearn.metrics import (\n",
        "    accuracy_score, precision_score, recall_score,\n",
        "    roc_auc_score, confusion_matrix, classification_report, f1_score\n",
        ")\n",
        "import matplotlib.pyplot as plt\n",
        "import copy"
      ],
      "metadata": {
        "id": "g5woRVB-bcHo"
      },
      "execution_count": null,
      "outputs": []
    },
    {
      "cell_type": "markdown",
      "source": [
        "[2] 데이터 로딩 함수 + Dataset 구성"
      ],
      "metadata": {
        "id": "8koJ1Yy3be47"
      }
    },
    {
      "cell_type": "code",
      "source": [
        "# 📂 데이터 로딩 및 전처리 함수\n",
        "def load_data(file_path=\"/content/data.csv\", batch_size=64):\n",
        "    df = pd.read_csv(file_path)\n",
        "\n",
        "    # ✅ 주요 수정 사항: bool → float 처리 (자동 변환)\n",
        "    for col in df.columns:\n",
        "        if df[col].dtype == 'bool':\n",
        "            df[col] = df[col].astype(float)\n",
        "\n",
        "    # 이진 타겟 형태로 보장 (추가 안전장치)\n",
        "    if df['y'].dtype != 'int':\n",
        "        df['y'] = df['y'].astype(int)\n",
        "\n",
        "    # X, y 분리\n",
        "    X = df.drop(columns=['y'])\n",
        "    y = df['y']\n",
        "\n",
        "    # ✅ float 변환 (혹시 object 타입 남은 경우 대비)\n",
        "    X = X.astype(float)\n",
        "\n",
        "    # Train/Val/Test 분할\n",
        "    from sklearn.model_selection import train_test_split\n",
        "    X_train, X_test, y_train, y_test = train_test_split(\n",
        "        X, y, test_size=0.2, stratify=y, random_state=42\n",
        "    )\n",
        "    X_train_sub, X_val, y_train_sub, y_val = train_test_split(\n",
        "        X_train, y_train, test_size=0.2, stratify=y_train, random_state=42\n",
        "    )\n",
        "\n",
        "    # PyTorch Dataset 정의\n",
        "    from torch.utils.data import Dataset, DataLoader\n",
        "\n",
        "    class BankDataset(Dataset):\n",
        "        def __init__(self, X, y):\n",
        "            self.X = torch.tensor(X.values, dtype=torch.float32)\n",
        "            self.y = torch.tensor(y.values, dtype=torch.float32)\n",
        "\n",
        "        def __len__(self):\n",
        "            return len(self.y)\n",
        "\n",
        "        def __getitem__(self, idx):\n",
        "            return self.X[idx], self.y[idx]\n",
        "\n",
        "    # Dataloader 생성\n",
        "    train_dataset = BankDataset(X_train_sub, y_train_sub)\n",
        "    val_dataset   = BankDataset(X_val, y_val)\n",
        "    test_dataset  = BankDataset(X_test, y_test)\n",
        "\n",
        "    train_loader = DataLoader(train_dataset, batch_size=batch_size, shuffle=True)\n",
        "    val_loader   = DataLoader(val_dataset, batch_size=batch_size, shuffle=False)\n",
        "    test_loader  = DataLoader(test_dataset, batch_size=batch_size, shuffle=False)\n",
        "\n",
        "    input_dim = X.shape[1]\n",
        "    return train_loader, val_loader, test_loader, input_dim"
      ],
      "metadata": {
        "id": "-bNwYlRkbd1s"
      },
      "execution_count": null,
      "outputs": []
    },
    {
      "cell_type": "markdown",
      "source": [
        " [3] 모델 정의 함수"
      ],
      "metadata": {
        "id": "4P7jeL1fbj7r"
      }
    },
    {
      "cell_type": "code",
      "source": [
        "# 🔧 MLPClassifier 모델 정의 함수\n",
        "class MLPClassifier(nn.Module):\n",
        "    def __init__(self, input_dim):\n",
        "        super(MLPClassifier, self).__init__()\n",
        "        self.model = nn.Sequential(\n",
        "            nn.Linear(input_dim, 64),\n",
        "            nn.ReLU(),\n",
        "            nn.Dropout(0.3),\n",
        "            nn.Linear(64, 32),\n",
        "            nn.ReLU(),\n",
        "            nn.Dropout(0.3),\n",
        "            nn.Linear(32, 1),\n",
        "            nn.Sigmoid()\n",
        "        )\n",
        "\n",
        "    def forward(self, x):\n",
        "        return self.model(x)"
      ],
      "metadata": {
        "id": "TEYsDj7UblXi"
      },
      "execution_count": null,
      "outputs": []
    },
    {
      "cell_type": "markdown",
      "source": [
        "[4] 훈련 함수, 평가 함수, 시각화 함수"
      ],
      "metadata": {
        "id": "a1jH6ymqbotc"
      }
    },
    {
      "cell_type": "code",
      "source": [
        "# 📈 Train 함수 정의\n",
        "def train_model(model, train_loader, val_loader, criterion, optimizer, device):\n",
        "    model.train()\n",
        "    total_loss = 0\n",
        "    for xb, yb in train_loader:\n",
        "        xb, yb = xb.to(device), yb.to(device).view(-1, 1)\n",
        "        optimizer.zero_grad()\n",
        "        preds = model(xb)\n",
        "        loss = criterion(preds, yb)\n",
        "        loss.backward()\n",
        "        optimizer.step()\n",
        "        total_loss += loss.item()\n",
        "\n",
        "    # Validation Loss\n",
        "    model.eval()\n",
        "    val_loss = 0\n",
        "    with torch.no_grad():\n",
        "        for xb, yb in val_loader:\n",
        "            xb, yb = xb.to(device), yb.to(device).view(-1, 1)\n",
        "            preds = model(xb)\n",
        "            loss = criterion(preds, yb)\n",
        "            val_loss += loss.item()\n",
        "\n",
        "    return total_loss / len(train_loader), val_loss / len(val_loader)\n",
        "\n",
        "# 📊 Evaluation 함수\n",
        "def evaluate_model(model, loader, device):\n",
        "    model.eval()\n",
        "    all_preds, all_labels = [], []\n",
        "    with torch.no_grad():\n",
        "        for xb, yb in loader:\n",
        "            xb = xb.to(device)\n",
        "            preds = model(xb).cpu().numpy()\n",
        "            all_preds.extend(preds.flatten())\n",
        "            all_labels.extend(yb.numpy())\n",
        "    return np.array(all_labels), np.array(all_preds)\n",
        "\n",
        "# 📈 학습곡선 시각화\n",
        "def plot_learning_curve(train_losses, val_losses):\n",
        "    plt.figure(figsize=(8,5))\n",
        "    plt.plot(train_losses, label='Train Loss')\n",
        "    plt.plot(val_losses, label='Validation Loss')\n",
        "    plt.title(\"Learning Curve\")\n",
        "    plt.xlabel(\"Epoch\")\n",
        "    plt.ylabel(\"Loss\")\n",
        "    plt.legend()\n",
        "    plt.grid(True)\n",
        "    plt.show()\n",
        "\n",
        "# 📑 성능 출력 함수\n",
        "def print_metrics(y_true, y_pred, y_prob):\n",
        "    print(\"\\n📌 Classification Report:\")\n",
        "    print(classification_report(y_true, y_pred))\n",
        "    print(f\"✅ Accuracy: {accuracy_score(y_true, y_pred):.4f}\")\n",
        "    print(f\"✅ Precision: {precision_score(y_true, y_pred):.4f}\")\n",
        "    print(f\"✅ Recall: {recall_score(y_true, y_pred):.4f}\")\n",
        "    print(f\"✅ F1-score: {f1_score(y_true, y_pred):.4f}\")\n",
        "    print(f\"✅ ROC AUC: {roc_auc_score(y_true, y_prob):.4f}\")\n",
        "    print(\"\\n📌 Confusion Matrix:\")\n",
        "    print(confusion_matrix(y_true, y_pred))"
      ],
      "metadata": {
        "id": "isKdvTMnbn3f"
      },
      "execution_count": null,
      "outputs": []
    },
    {
      "cell_type": "markdown",
      "source": [
        "[5] 메인 실행 코드 (모델 훈련 및 평가)"
      ],
      "metadata": {
        "id": "fznMHfptb-wm"
      }
    },
    {
      "cell_type": "code",
      "source": [
        "# ⚙ 하이퍼파라미터 설정\n",
        "num_epochs = 50\n",
        "patience = 5\n",
        "learning_rate = 0.001\n",
        "batch_size = 64\n",
        "model_path = \"best_model.pth\"\n",
        "\n",
        "# 데이터 로딩\n",
        "train_loader, val_loader, test_loader, input_dim = load_data(batch_size=batch_size)\n",
        "\n",
        "# 모델/손실/옵티마이저 초기화\n",
        "device = torch.device(\"cuda\" if torch.cuda.is_available() else \"cpu\")\n",
        "model = MLPClassifier(input_dim).to(device)\n",
        "criterion = nn.BCELoss()\n",
        "optimizer = torch.optim.Adam(model.parameters(), lr=learning_rate)\n",
        "\n",
        "# 학습 초기화\n",
        "train_losses, val_losses = [], []\n",
        "best_val_loss = float('inf')\n",
        "best_epoch = 0\n",
        "patience_counter = 0\n",
        "best_weights = copy.deepcopy(model.state_dict())\n",
        "\n",
        "# 모델 학습 (EarlyStopping 포함)\n",
        "for epoch in range(1, num_epochs + 1):\n",
        "    train_loss, val_loss = train_model(model, train_loader, val_loader, criterion, optimizer, device)\n",
        "    train_losses.append(train_loss)\n",
        "    val_losses.append(val_loss)\n",
        "\n",
        "    print(f\"[Epoch {epoch}] Train Loss: {train_loss:.4f} | Val Loss: {val_loss:.4f}\")\n",
        "\n",
        "    if val_loss < best_val_loss:\n",
        "        best_val_loss = val_loss\n",
        "        best_epoch = epoch\n",
        "        best_weights = copy.deepcopy(model.state_dict())\n",
        "        torch.save(model.state_dict(), model_path)\n",
        "        patience_counter = 0\n",
        "    else:\n",
        "        patience_counter += 1\n",
        "        if patience_counter >= patience:\n",
        "            print(f\"🛑 Early stopping triggered at epoch {epoch}\")\n",
        "            break\n",
        "\n",
        "print(f\"\\n✅ Best Model saved at epoch {best_epoch}, Val Loss: {best_val_loss:.4f}\")\n",
        "plot_learning_curve(train_losses, val_losses)"
      ],
      "metadata": {
        "colab": {
          "base_uri": "https://localhost:8080/",
          "height": 829
        },
        "id": "8-nYDZhZbr7-",
        "outputId": "ea4535d6-41c7-4c73-d2b1-7cef108cbdce"
      },
      "execution_count": null,
      "outputs": [
        {
          "output_type": "stream",
          "name": "stdout",
          "text": [
            "[Epoch 1] Train Loss: 0.3210 | Val Loss: 0.2907\n",
            "[Epoch 2] Train Loss: 0.2934 | Val Loss: 0.2809\n",
            "[Epoch 3] Train Loss: 0.2909 | Val Loss: 0.2808\n",
            "[Epoch 4] Train Loss: 0.2874 | Val Loss: 0.2778\n",
            "[Epoch 5] Train Loss: 0.2861 | Val Loss: 0.2774\n",
            "[Epoch 6] Train Loss: 0.2873 | Val Loss: 0.2777\n",
            "[Epoch 7] Train Loss: 0.2858 | Val Loss: 0.2772\n",
            "[Epoch 8] Train Loss: 0.2848 | Val Loss: 0.2764\n",
            "[Epoch 9] Train Loss: 0.2829 | Val Loss: 0.2769\n",
            "[Epoch 10] Train Loss: 0.2832 | Val Loss: 0.2761\n",
            "[Epoch 11] Train Loss: 0.2815 | Val Loss: 0.2766\n",
            "[Epoch 12] Train Loss: 0.2817 | Val Loss: 0.2771\n",
            "[Epoch 13] Train Loss: 0.2807 | Val Loss: 0.2753\n",
            "[Epoch 14] Train Loss: 0.2807 | Val Loss: 0.2755\n",
            "[Epoch 15] Train Loss: 0.2797 | Val Loss: 0.2779\n",
            "[Epoch 16] Train Loss: 0.2800 | Val Loss: 0.2767\n",
            "[Epoch 17] Train Loss: 0.2789 | Val Loss: 0.2758\n",
            "[Epoch 18] Train Loss: 0.2786 | Val Loss: 0.2755\n",
            "🛑 Early stopping triggered at epoch 18\n",
            "\n",
            "✅ Best Model saved at epoch 13, Val Loss: 0.2753\n"
          ]
        },
        {
          "output_type": "display_data",
          "data": {
            "text/plain": [
              "<Figure size 800x500 with 1 Axes>"
            ],
            "image/png": "[encoded data removed]"
          },
          "metadata": {}
        }
      ]
    },
    {
      "cell_type": "markdown",
      "source": [
        "[6] Best 모델 불러오기 및 최종 평가"
      ],
      "metadata": {
        "id": "dquMbV-scFun"
      }
    },
    {
      "cell_type": "code",
      "source": [
        "# ✅ Best 모델 로딩 및 테스트 평가\n",
        "model.load_state_dict(torch.load(model_path))\n",
        "y_true, y_prob = evaluate_model(model, test_loader, device)\n",
        "y_pred = (y_prob >= 0.5).astype(int)\n",
        "print_metrics(y_true, y_pred, y_prob)"
      ],
      "metadata": {
        "colab": {
          "base_uri": "https://localhost:8080/"
        },
        "id": "3NKelD0_cB21",
        "outputId": "e087c736-6b47-4513-c273-b8c67bce0ccb"
      },
      "execution_count": null,
      "outputs": [
        {
          "output_type": "stream",
          "name": "stdout",
          "text": [
            "\n",
            "📌 Classification Report:\n",
            "              precision    recall  f1-score   support\n",
            "\n",
            "         0.0       0.91      0.99      0.95      7310\n",
            "         1.0       0.69      0.25      0.36       928\n",
            "\n",
            "    accuracy                           0.90      8238\n",
            "   macro avg       0.80      0.62      0.66      8238\n",
            "weighted avg       0.89      0.90      0.88      8238\n",
            "\n",
            "✅ Accuracy: 0.9028\n",
            "✅ Precision: 0.6930\n",
            "✅ Recall: 0.2457\n",
            "✅ F1-score: 0.3628\n",
            "✅ ROC AUC: 0.8035\n",
            "\n",
            "📌 Confusion Matrix:\n",
            "[[7209  101]\n",
            " [ 700  228]]\n"
          ]
        },
        {
          "output_type": "stream",
          "name": "stderr",
          "text": [
            "<ipython-input-26-beae9ad5eaf4>:2: FutureWarning: You are using `torch.load` with `weights_only=False` (the current default value), which uses the default pickle module implicitly. It is possible to construct malicious pickle data which will execute arbitrary code during unpickling (See https://github.com/pytorch/pytorch/blob/main/SECURITY.md#untrusted-models for more details). In a future release, the default value for `weights_only` will be flipped to `True`. This limits the functions that could be executed during unpickling. Arbitrary objects will no longer be allowed to be loaded via this mode unless they are explicitly allowlisted by the user via `torch.serialization.add_safe_globals`. We recommend you start setting `weights_only=True` for any use case where you don't have full control of the loaded file. Please open an issue on GitHub for any issues related to this experimental feature.\n",
            "  model.load_state_dict(torch.load(model_path))\n"
          ]
        }
      ]
    },
    {
      "cell_type": "code",
      "source": [],
      "metadata": {
        "id": "G0IX9E7gxuky"
      },
      "execution_count": null,
      "outputs": []
    }
  ]
}