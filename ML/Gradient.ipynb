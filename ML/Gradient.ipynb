{
 "cells": [
  {
   "cell_type": "code",
   "execution_count": 8,
   "metadata": {
    "executionInfo": {
     "elapsed": 9,
     "status": "ok",
     "timestamp": 1741789605524,
     "user": {
      "displayName": "22 lab",
      "userId": "07927664234515565497"
     },
     "user_tz": -540
    },
    "id": "elii_W4VJ-fF"
   },
   "outputs": [],
   "source": [
    "import pandas as pd\n",
    "import numpy as np\n",
    "import matplotlib.pyplot as plt\n",
    "import seaborn as sns\n",
    "\n",
    "from sklearn.model_selection import train_test_split\n",
    "from sklearn.ensemble import RandomForestClassifier\n",
    "from xgboost import XGBClassifier\n",
    "from lightgbm import LGBMClassifier\n",
    "from sklearn.ensemble import GradientBoostingClassifier\n",
    "from imblearn.over_sampling import SMOTE\n",
    "from imblearn.under_sampling import RandomUnderSampler\n",
    "from imblearn.combine import SMOTETomek\n",
    "\n",
    "from imblearn.pipeline import Pipeline\n",
    "from sklearn.model_selection import train_test_split, GridSearchCV\n",
    "from sklearn.metrics import accuracy_score, precision_score, recall_score, f1_score, roc_auc_score, classification_report, confusion_matrix"
   ]
  },
  {
   "cell_type": "code",
   "execution_count": 2,
   "metadata": {
    "executionInfo": {
     "elapsed": 1178,
     "status": "ok",
     "timestamp": 1741789590481,
     "user": {
      "displayName": "22 lab",
      "userId": "07927664234515565497"
     },
     "user_tz": -540
    },
    "id": "pFVsFY8sVz4a"
   },
   "outputs": [],
   "source": [
    "df = pd.read_csv('/content/drive/MyDrive/bank_marketing/bank/bank-additional-full.csv',sep=';')"
   ]
  },
  {
   "cell_type": "code",
   "execution_count": 3,
   "metadata": {
    "colab": {
     "base_uri": "https://localhost:8080/"
    },
    "executionInfo": {
     "elapsed": 208,
     "status": "ok",
     "timestamp": 1741789590688,
     "user": {
      "displayName": "22 lab",
      "userId": "07927664234515565497"
     },
     "user_tz": -540
    },
    "id": "N7glYrA3aS0n",
    "outputId": "bc30c69f-f567-4b81-c3c2-79f5537e8009"
   },
   "outputs": [
    {
     "name": "stderr",
     "output_type": "stream",
     "text": [
      "<ipython-input-3-c056819daa7e>:27: FutureWarning: Downcasting behavior in `replace` is deprecated and will be removed in a future version. To retain the old behavior, explicitly call `result.infer_objects(copy=False)`. To opt-in to the future behavior, set `pd.set_option('future.no_silent_downcasting', True)`\n",
      "  df['month'] = df['month'].replace(month_mapping)\n"
     ]
    }
   ],
   "source": [
    "from sklearn.preprocessing import OrdinalEncoder\n",
    "from sklearn.preprocessing import StandardScaler\n",
    "\n",
    "# 타겟 라벨링\n",
    "df['y'] = df['y'].map({'yes': 1, 'no': 0})\n",
    "# 'job' 컬럼에서 원핫 인코딩\n",
    "df = pd.get_dummies(df, columns=['job'], drop_first=False)\n",
    "# 'marital' 컬럼에서 원핫 인코딩\n",
    "df = pd.get_dummies(df, columns=['marital'], drop_first=False)\n",
    "# OrdinalEncoder 사용 (순서 지정)\n",
    "encoder_edu = OrdinalEncoder(categories=[['unknown', 'illiterate', 'basic.4y', 'basic.6y', 'basic.9y', 'high.school', 'university.degree', 'professional.course']])\n",
    "df['education'] = encoder_edu.fit_transform(df[['education']])\n",
    "df['education'] = df['education'].astype(int)\n",
    "# 'yes' 1인 사람이 3명, 컬럼 사용 X\n",
    "df = df.drop(columns=['default'])\n",
    "# 'housing' 컬럼에서 원핫 인코딩\n",
    "df = pd.get_dummies(df, columns=['housing'], drop_first=False)\n",
    "# 'loan' 컬럼에서 원핫 인코딩\n",
    "df = pd.get_dummies(df, columns=['loan'], drop_first=False)\n",
    "# 'contact' 컬럼에서 원핫 인코딩\n",
    "df['contact'] = df['contact'].map({'cellular': 1, 'telephone': 0})\n",
    "# 'month' 컬럼을 Ordinal로 변환\n",
    "month_mapping = {\n",
    "    'jan': 1, 'feb': 2, 'mar': 3, 'apr': 4, 'may': 5, 'jun': 6,\n",
    "    'jul': 7, 'aug': 8, 'sep': 9, 'oct': 10, 'nov': 11, 'dec': 12\n",
    "}\n",
    "df['month'] = df['month'].replace(month_mapping)\n",
    "# day_of_week\n",
    "df = pd.get_dummies(df, columns=['day_of_week'], drop_first=False)\n",
    "# duration 사용 X\n",
    "df = df.drop(columns=['duration'])\n",
    "# pdays -> 999는 0으로, 나머지 값은 1로 인코딩\n",
    "df['contacted_before'] = df['pdays'].apply(lambda x: 0 if x == 999 else 1)\n",
    "df = df.drop(columns=['pdays'])\n",
    "# poutcome\n",
    "df = pd.get_dummies(df, columns=['poutcome'], drop_first=False)\n",
    "# int -> float 컬럼 지정\n",
    "cols_to_convert = ['age', 'campaign', 'previous']\n",
    "# 지정된 컬럼을 float64로 변환\n",
    "df[cols_to_convert] = df[cols_to_convert].astype('float64')\n",
    "# StandardScaler 객체 생성\n",
    "scaler = StandardScaler()\n",
    "cols_to_scaling = ['age', 'campaign', 'previous', 'emp.var.rate', 'cons.price.idx', 'cons.conf.idx', 'euribor3m', 'nr.employed']\n",
    "# 지정된 컬럼들에 대해 스케일링\n",
    "df[cols_to_scaling] = scaler.fit_transform(df[cols_to_scaling])"
   ]
  },
  {
   "cell_type": "code",
   "execution_count": 4,
   "metadata": {
    "executionInfo": {
     "elapsed": 1,
     "status": "ok",
     "timestamp": 1741789590690,
     "user": {
      "displayName": "22 lab",
      "userId": "07927664234515565497"
     },
     "user_tz": -540
    },
    "id": "S-9BYrTCazN-"
   },
   "outputs": [],
   "source": [
    "X = df.drop(columns='y')\n",
    "y = df['y']"
   ]
  },
  {
   "cell_type": "code",
   "execution_count": 5,
   "metadata": {
    "colab": {
     "base_uri": "https://localhost:8080/"
    },
    "executionInfo": {
     "elapsed": 29,
     "status": "ok",
     "timestamp": 1741789590719,
     "user": {
      "displayName": "22 lab",
      "userId": "07927664234515565497"
     },
     "user_tz": -540
    },
    "id": "IXXI0tePazLa",
    "outputId": "4a9cce50-a800-446b-d1fc-5f1ce021ff64"
   },
   "outputs": [
    {
     "name": "stdout",
     "output_type": "stream",
     "text": [
      "(28831, 42) (12357, 42) (28831,) (12357,)\n"
     ]
    }
   ],
   "source": [
    "X_train, X_val, y_train, y_val = train_test_split(X,y, test_size=0.3, random_state=42, stratify=y)\n",
    "print(X_train.shape, X_val.shape, y_train.shape, y_val.shape)"
   ]
  },
  {
   "cell_type": "markdown",
   "metadata": {
    "id": "GWGLdFbFaSid"
   },
   "source": []
  },
  {
   "cell_type": "code",
   "execution_count": 6,
   "metadata": {
    "executionInfo": {
     "elapsed": 38,
     "status": "ok",
     "timestamp": 1741789590760,
     "user": {
      "displayName": "22 lab",
      "userId": "07927664234515565497"
     },
     "user_tz": -540
    },
    "id": "R7XxQlne0o4b"
   },
   "outputs": [],
   "source": [
    "def print_metrics(y_true, y_pred, y_prob):\n",
    "    print(\"\\n📌 Classification Report:\")\n",
    "    print(classification_report(y_true, y_pred))\n",
    "    print(f\"✅ Accuracy: {accuracy_score(y_true, y_pred):.4f}\")\n",
    "    print(f\"✅ Precision: {precision_score(y_true, y_pred):.4f}\")\n",
    "    print(f\"✅ Recall: {recall_score(y_true, y_pred):.4f}\")\n",
    "    print(f\"✅ F1-score: {f1_score(y_true, y_pred):.4f}\")\n",
    "    print(f\"✅ ROC AUC: {roc_auc_score(y_true, y_prob):.4f}\")\n",
    "    print(\"\\n📌 Confusion Matrix:\")\n",
    "    print(confusion_matrix(y_true, y_pred))"
   ]
  },
  {
   "cell_type": "markdown",
   "metadata": {
    "id": "DNCzQGrxVOjb"
   },
   "source": [
    "1. 오버샘플 없이"
   ]
  },
  {
   "cell_type": "code",
   "execution_count": null,
   "metadata": {
    "colab": {
     "base_uri": "https://localhost:8080/"
    },
    "executionInfo": {
     "elapsed": 777741,
     "status": "ok",
     "timestamp": 1741764353045,
     "user": {
      "displayName": "22 lab",
      "userId": "07927664234515565497"
     },
     "user_tz": -540
    },
    "id": "cZT8Cz3dvarV",
    "outputId": "44ac570a-a790-428e-fc2f-7cbb49ccf724"
   },
   "outputs": [
    {
     "name": "stdout",
     "output_type": "stream",
     "text": [
      "Fitting 3 folds for each of 54 candidates, totalling 162 fits\n",
      "최적 하이퍼파라미터: {'learning_rate': 0.05, 'max_depth': 5, 'n_estimators': 200, 'subsample': 1.0}\n",
      "최고 ROC AUC: 0.7965300562595977\n",
      "\n",
      "📌 Classification Report:\n",
      "              precision    recall  f1-score   support\n",
      "\n",
      "           0       0.91      0.98      0.95     10965\n",
      "           1       0.65      0.26      0.37      1392\n",
      "\n",
      "    accuracy                           0.90     12357\n",
      "   macro avg       0.78      0.62      0.66     12357\n",
      "weighted avg       0.88      0.90      0.88     12357\n",
      "\n",
      "✅ Accuracy: 0.9006\n",
      "✅ Precision: 0.6502\n",
      "✅ Recall: 0.2550\n",
      "✅ F1-score: 0.3664\n",
      "✅ ROC AUC: 0.8111\n",
      "\n",
      "📌 Confusion Matrix:\n",
      "[[10774   191]\n",
      " [ 1037   355]]\n"
     ]
    }
   ],
   "source": [
    "from sklearn.ensemble import GradientBoostingClassifier\n",
    "from sklearn.model_selection import GridSearchCV\n",
    "\n",
    "param_grid = {\n",
    "    'n_estimators': [50, 100, 200],            # 트리 개수\n",
    "    'max_depth': [3, 5, 8],                     # 트리 깊이\n",
    "    'learning_rate': [0.01, 0.05, 0.1],         # 학습률\n",
    "    'subsample': [0.8, 1.0],                    # 샘플링 비율\n",
    "}\n",
    "\n",
    "grid_search = GridSearchCV(\n",
    "    GradientBoostingClassifier(random_state=42),\n",
    "    param_grid,\n",
    "    cv=3,\n",
    "    scoring='roc_auc',\n",
    "    n_jobs=-1,\n",
    "    verbose=1\n",
    ")\n",
    "\n",
    "grid_search.fit(X_train, y_train)\n",
    "\n",
    "print(\"최적 하이퍼파라미터:\", grid_search.best_params_)\n",
    "print(\"최고 ROC AUC:\", grid_search.best_score_)\n",
    "\n",
    "best_gbm = grid_search.best_estimator_\n",
    "y_pred_prob = best_gbm.predict_proba(X_val)[:, 1]\n",
    "y_pred_best = best_gbm.predict(X_val)\n",
    "\n",
    "print_metrics(y_val, y_pred_best, y_pred_prob)\n"
   ]
  },
  {
   "cell_type": "code",
   "execution_count": null,
   "metadata": {
    "id": "niZNlWCH9wfl"
   },
   "outputs": [],
   "source": [
    "import pickle\n",
    "\n",
    "# 최적 모델 저장\n",
    "best_xgb = grid_search.best_estimator_\n",
    "with open(\"/content/drive/MyDrive/bank_marketing/model/gradient_base.pkl\", \"wb\") as model_file:\n",
    "    pickle.dump(best_xgb, model_file)"
   ]
  },
  {
   "cell_type": "markdown",
   "metadata": {
    "id": "QiSkAVjPVTea"
   },
   "source": [
    "2. 오버샘플링"
   ]
  },
  {
   "cell_type": "code",
   "execution_count": null,
   "metadata": {
    "colab": {
     "base_uri": "https://localhost:8080/"
    },
    "executionInfo": {
     "elapsed": 121606,
     "status": "ok",
     "timestamp": 1741768430075,
     "user": {
      "displayName": "22 lab",
      "userId": "07927664234515565497"
     },
     "user_tz": -540
    },
    "id": "EzCM-NE2VBkB",
    "outputId": "e5cd17f9-2919-4bf3-899d-b932edad89db"
   },
   "outputs": [
    {
     "name": "stdout",
     "output_type": "stream",
     "text": [
      "Fitting 3 folds for each of 162 candidates, totalling 486 fits\n",
      "최적 하이퍼파라미터: {'gbm__learning_rate': 0.05, 'gbm__max_depth': 5, 'gbm__n_estimators': 200, 'gbm__subsample': 0.8, 'smote__sampling_strategy': 0.5}\n",
      "최고 ROC AUC: 0.7899748879430196\n",
      "\n",
      "📌 Classification Report:\n",
      "              precision    recall  f1-score   support\n",
      "\n",
      "           0       0.92      0.97      0.95     10965\n",
      "           1       0.61      0.32      0.42      1392\n",
      "\n",
      "    accuracy                           0.90     12357\n",
      "   macro avg       0.76      0.65      0.68     12357\n",
      "weighted avg       0.88      0.90      0.89     12357\n",
      "\n",
      "✅ Accuracy: 0.9005\n",
      "✅ Precision: 0.6106\n",
      "✅ Recall: 0.3233\n",
      "✅ F1-score: 0.4227\n",
      "✅ ROC AUC: 0.8056\n",
      "\n",
      "📌 Confusion Matrix:\n",
      "[[10678   287]\n",
      " [  942   450]]\n"
     ]
    }
   ],
   "source": [
    "X_train, X_val, y_train, y_val = train_test_split(X, y, test_size=0.3, random_state=42, stratify=y)\n",
    "\n",
    "pipeline = Pipeline([\n",
    "    ('smote', SMOTE(random_state=42)),\n",
    "    ('gbm', GradientBoostingClassifier(random_state=42))\n",
    "])\n",
    "\n",
    "param_grid = {\n",
    "    'smote__sampling_strategy': [0.5, 0.7, 1.0],  # 오버샘플링 비율\n",
    "    'gbm__n_estimators': [50, 100, 200],\n",
    "    'gbm__max_depth': [3, 5, 8],\n",
    "    'gbm__learning_rate': [0.01, 0.05, 0.1],\n",
    "    'gbm__subsample': [0.8, 1.0],\n",
    "}\n",
    "\n",
    "grid_search = GridSearchCV(\n",
    "    pipeline,\n",
    "    param_grid,\n",
    "    cv=3,\n",
    "    scoring='roc_auc',\n",
    "    n_jobs=-1,\n",
    "    verbose=1\n",
    ")\n",
    "\n",
    "grid_search.fit(X_train, y_train)\n",
    "\n",
    "print(\"최적 하이퍼파라미터:\", grid_search.best_params_)\n",
    "print(\"최고 ROC AUC:\", grid_search.best_score_)\n",
    "\n",
    "best_gbm = grid_search.best_estimator_\n",
    "y_pred_prob = best_gbm.predict_proba(X_val)[:, 1]\n",
    "y_pred_best = best_gbm.predict(X_val)\n",
    "\n",
    "print_metrics(y_val, y_pred_best, y_pred_prob)"
   ]
  },
  {
   "cell_type": "code",
   "execution_count": null,
   "metadata": {
    "id": "zE7UxdC3-VMv"
   },
   "outputs": [],
   "source": [
    "best_xgb = grid_search.best_estimator_\n",
    "with open(\"/content/drive/MyDrive/bank_marketing/model/gradient_over.pkl\", \"wb\") as model_file:\n",
    "    pickle.dump(best_xgb, model_file)"
   ]
  },
  {
   "cell_type": "markdown",
   "metadata": {
    "id": "iC62hwT0VnJ5"
   },
   "source": [
    "3. 언더샘플링"
   ]
  },
  {
   "cell_type": "code",
   "execution_count": null,
   "metadata": {
    "colab": {
     "base_uri": "https://localhost:8080/"
    },
    "executionInfo": {
     "elapsed": 537764,
     "status": "ok",
     "timestamp": 1741769133356,
     "user": {
      "displayName": "22 lab",
      "userId": "07927664234515565497"
     },
     "user_tz": -540
    },
    "id": "T5mm_ZXPWcZx",
    "outputId": "1b92ea8b-b578-4276-cc1d-36580813a062"
   },
   "outputs": [
    {
     "name": "stdout",
     "output_type": "stream",
     "text": [
      "Fitting 3 folds for each of 108 candidates, totalling 324 fits\n",
      "최적 하이퍼파라미터: {'gbm__learning_rate': 0.05, 'gbm__max_depth': 5, 'gbm__n_estimators': 100, 'gbm__subsample': 0.8, 'undersample__sampling_strategy': 0.5}\n",
      "최고 ROC AUC: 0.7930396362834425\n",
      "\n",
      "📌 Classification Report:\n",
      "              precision    recall  f1-score   support\n",
      "\n",
      "           0       0.95      0.91      0.93     10965\n",
      "           1       0.47      0.59      0.52      1392\n",
      "\n",
      "    accuracy                           0.88     12357\n",
      "   macro avg       0.71      0.75      0.73     12357\n",
      "weighted avg       0.89      0.88      0.88     12357\n",
      "\n",
      "✅ Accuracy: 0.8775\n",
      "✅ Precision: 0.4655\n",
      "✅ Recall: 0.5905\n",
      "✅ F1-score: 0.5206\n",
      "✅ ROC AUC: 0.8120\n",
      "\n",
      "📌 Confusion Matrix:\n",
      "[[10021   944]\n",
      " [  570   822]]\n"
     ]
    }
   ],
   "source": [
    "X_train, X_val, y_train, y_val = train_test_split(X, y, test_size=0.3, random_state=42, stratify=y)\n",
    "\n",
    "pipeline = Pipeline([\n",
    "    ('undersample', RandomUnderSampler(random_state=42)),\n",
    "    ('gbm', GradientBoostingClassifier(random_state=42))\n",
    "])\n",
    "\n",
    "param_grid = {\n",
    "    'undersample__sampling_strategy': [0.5, 0.8],  # 언더샘플링 비율\n",
    "    'gbm__n_estimators': [50, 100, 200],\n",
    "    'gbm__max_depth': [3, 5, 8],\n",
    "    'gbm__learning_rate': [0.01, 0.05, 0.1],\n",
    "    'gbm__subsample': [0.8, 1.0],\n",
    "}\n",
    "\n",
    "grid_search = GridSearchCV(\n",
    "    pipeline,\n",
    "    param_grid,\n",
    "    cv=3,\n",
    "    scoring='roc_auc',\n",
    "    n_jobs=-1,\n",
    "    verbose=1\n",
    ")\n",
    "\n",
    "grid_search.fit(X_train, y_train)\n",
    "\n",
    "print(\"최적 하이퍼파라미터:\", grid_search.best_params_)\n",
    "print(\"최고 ROC AUC:\", grid_search.best_score_)\n",
    "\n",
    "best_gbm = grid_search.best_estimator_\n",
    "y_pred_prob = best_gbm.predict_proba(X_val)[:, 1]\n",
    "y_pred_best = best_gbm.predict(X_val)\n",
    "\n",
    "print_metrics(y_val, y_pred_best, y_pred_prob)"
   ]
  },
  {
   "cell_type": "code",
   "execution_count": null,
   "metadata": {
    "id": "-NRpuD3x-lOz"
   },
   "outputs": [],
   "source": [
    "best_xgb = grid_search.best_estimator_\n",
    "with open(\"/content/drive/MyDrive/bank_marketing/model/gradient_under.pkl\", \"wb\") as model_file:\n",
    "    pickle.dump(best_xgb, model_file)"
   ]
  },
  {
   "cell_type": "markdown",
   "metadata": {
    "id": "qV5Y9eZYVuDZ"
   },
   "source": [
    "4. 오버 & 언더"
   ]
  },
  {
   "cell_type": "code",
   "execution_count": 9,
   "metadata": {
    "colab": {
     "base_uri": "https://localhost:8080/"
    },
    "executionInfo": {
     "elapsed": 3299847,
     "status": "ok",
     "timestamp": 1741792909329,
     "user": {
      "displayName": "22 lab",
      "userId": "07927664234515565497"
     },
     "user_tz": -540
    },
    "id": "gTjpL7RFZXku",
    "outputId": "e3bc4fb7-3789-4ce6-ad1d-b12c5bb0ea02"
   },
   "outputs": [
    {
     "name": "stdout",
     "output_type": "stream",
     "text": [
      "Fitting 3 folds for each of 324 candidates, totalling 972 fits\n"
     ]
    },
    {
     "name": "stderr",
     "output_type": "stream",
     "text": [
      "/usr/local/lib/python3.11/dist-packages/sklearn/model_selection/_validation.py:528: FitFailedWarning: \n",
      "486 fits failed out of a total of 972.\n",
      "The score on these train-test partitions for these parameters will be set to nan.\n",
      "If these failures are not expected, you can try to debug them by setting error_score='raise'.\n",
      "\n",
      "Below are more details about the failures:\n",
      "--------------------------------------------------------------------------------\n",
      "486 fits failed with the following error:\n",
      "Traceback (most recent call last):\n",
      "  File \"/usr/local/lib/python3.11/dist-packages/sklearn/model_selection/_validation.py\", line 866, in _fit_and_score\n",
      "    estimator.fit(X_train, y_train, **fit_params)\n",
      "  File \"/usr/local/lib/python3.11/dist-packages/sklearn/base.py\", line 1389, in wrapper\n",
      "    return fit_method(estimator, *args, **kwargs)\n",
      "           ^^^^^^^^^^^^^^^^^^^^^^^^^^^^^^^^^^^^^^\n",
      "  File \"/usr/local/lib/python3.11/dist-packages/imblearn/pipeline.py\", line 518, in fit\n",
      "    Xt, yt = self._fit(X, y, routed_params, raw_params=params)\n",
      "             ^^^^^^^^^^^^^^^^^^^^^^^^^^^^^^^^^^^^^^^^^^^^^^^^^\n",
      "  File \"/usr/local/lib/python3.11/dist-packages/imblearn/pipeline.py\", line 440, in _fit\n",
      "    X, y, fitted_transformer = fit_resample_one_cached(\n",
      "                               ^^^^^^^^^^^^^^^^^^^^^^^^\n",
      "  File \"/usr/local/lib/python3.11/dist-packages/joblib/memory.py\", line 312, in __call__\n",
      "    return self.func(*args, **kwargs)\n",
      "           ^^^^^^^^^^^^^^^^^^^^^^^^^^\n",
      "  File \"/usr/local/lib/python3.11/dist-packages/imblearn/pipeline.py\", line 1336, in _fit_resample_one\n",
      "    X_res, y_res = sampler.fit_resample(X, y, **params.get(\"fit_resample\", {}))\n",
      "                   ^^^^^^^^^^^^^^^^^^^^^^^^^^^^^^^^^^^^^^^^^^^^^^^^^^^^^^^^^^^^\n",
      "  File \"/usr/local/lib/python3.11/dist-packages/imblearn/base.py\", line 202, in fit_resample\n",
      "    return super().fit_resample(X, y, **params)\n",
      "           ^^^^^^^^^^^^^^^^^^^^^^^^^^^^^^^^^^^^\n",
      "  File \"/usr/local/lib/python3.11/dist-packages/sklearn/base.py\", line 1389, in wrapper\n",
      "    return fit_method(estimator, *args, **kwargs)\n",
      "           ^^^^^^^^^^^^^^^^^^^^^^^^^^^^^^^^^^^^^^\n",
      "  File \"/usr/local/lib/python3.11/dist-packages/imblearn/base.py\", line 101, in fit_resample\n",
      "    self.sampling_strategy_ = check_sampling_strategy(\n",
      "                              ^^^^^^^^^^^^^^^^^^^^^^^^\n",
      "  File \"/usr/local/lib/python3.11/dist-packages/imblearn/utils/_validation.py\", line 571, in check_sampling_strategy\n",
      "    _sampling_strategy_float(sampling_strategy, y, sampling_type).items()\n",
      "    ^^^^^^^^^^^^^^^^^^^^^^^^^^^^^^^^^^^^^^^^^^^^^^^^^^^^^^^^^^^^^\n",
      "  File \"/usr/local/lib/python3.11/dist-packages/imblearn/utils/_validation.py\", line 430, in _sampling_strategy_float\n",
      "    raise ValueError(\n",
      "ValueError: The specified ratio required to generate new sample in the majority class while trying to remove samples. Please increase the ratio.\n",
      "\n",
      "  warnings.warn(some_fits_failed_message, FitFailedWarning)\n",
      "/usr/local/lib/python3.11/dist-packages/sklearn/model_selection/_search.py:1108: UserWarning: One or more of the test scores are non-finite: [0.75825948 0.75602143        nan 0.75731523        nan        nan\n",
      " 0.75683438 0.75711612        nan 0.75292814        nan        nan\n",
      " 0.76774947 0.77111222        nan 0.7690804         nan        nan\n",
      " 0.76753133 0.7712541         nan 0.76814194        nan        nan\n",
      " 0.77571765 0.77612403        nan 0.77417489        nan        nan\n",
      " 0.77501027 0.77609317        nan 0.77469028        nan        nan\n",
      " 0.77010311 0.76859445        nan 0.76396468        nan        nan\n",
      " 0.76611297 0.76331343        nan 0.76196653        nan        nan\n",
      " 0.77478672 0.77613798        nan 0.77347808        nan        nan\n",
      " 0.7727116  0.77463843        nan 0.77010907        nan        nan\n",
      " 0.78091987 0.78329833        nan 0.78099165        nan        nan\n",
      " 0.78137859 0.78266348        nan 0.77998795        nan        nan\n",
      " 0.77582849 0.77602759        nan 0.77133829        nan        nan\n",
      " 0.76969824 0.76891767        nan 0.76402733        nan        nan\n",
      " 0.77966489 0.77946525        nan 0.77578064        nan        nan\n",
      " 0.77578977 0.77532014        nan 0.77115602        nan        nan\n",
      " 0.7832553  0.78389819        nan 0.7815376         nan        nan\n",
      " 0.78116447 0.77968044        nan 0.77814685        nan        nan\n",
      " 0.77523004 0.77915172        nan 0.7743025         nan        nan\n",
      " 0.772826   0.77751705        nan 0.77429208        nan        nan\n",
      " 0.78086843 0.77973877        nan 0.77756327        nan        nan\n",
      " 0.77972408 0.78021777        nan 0.77639573        nan        nan\n",
      " 0.78525148 0.78445254        nan 0.78140774        nan        nan\n",
      " 0.78389986 0.78377437        nan 0.7805972         nan        nan\n",
      " 0.78191592 0.78454539        nan 0.7806174         nan        nan\n",
      " 0.78186238 0.78420858        nan 0.78142335        nan        nan\n",
      " 0.78485932 0.78579012        nan 0.78322825        nan        nan\n",
      " 0.78592431 0.78738513        nan 0.78304919        nan        nan\n",
      " 0.78775501 0.78816313        nan 0.78571643        nan        nan\n",
      " 0.78933003 0.78911413        nan 0.785584          nan        nan\n",
      " 0.78442984 0.78314944        nan 0.78116085        nan        nan\n",
      " 0.78227905 0.7827139         nan 0.78096454        nan        nan\n",
      " 0.7880184  0.7849868         nan 0.78588546        nan        nan\n",
      " 0.78571065 0.78486891        nan 0.78412848        nan        nan\n",
      " 0.78442404 0.7797848         nan 0.78347336        nan        nan\n",
      " 0.78170461 0.78079646        nan 0.78295571        nan        nan\n",
      " 0.77930858 0.78126354        nan 0.77718023        nan        nan\n",
      " 0.77915887 0.77980655        nan 0.77786901        nan        nan\n",
      " 0.78353856 0.78372552        nan 0.77915023        nan        nan\n",
      " 0.78350536 0.7844169         nan 0.78114072        nan        nan\n",
      " 0.78740511 0.78764752        nan 0.78269522        nan        nan\n",
      " 0.78775061 0.78780388        nan 0.78414512        nan        nan\n",
      " 0.78511912 0.78485724        nan 0.78234348        nan        nan\n",
      " 0.78538474 0.78692905        nan 0.78171283        nan        nan\n",
      " 0.78767723 0.78536987        nan 0.78421797        nan        nan\n",
      " 0.78827642 0.78888201        nan 0.78531054        nan        nan\n",
      " 0.78722331 0.78123672        nan 0.78356773        nan        nan\n",
      " 0.78757181 0.78631432        nan 0.78414224        nan        nan\n",
      " 0.78559996 0.78528103        nan 0.7849185         nan        nan\n",
      " 0.78471001 0.78387455        nan 0.78515584        nan        nan\n",
      " 0.78213799 0.78075465        nan 0.78004664        nan        nan\n",
      " 0.7803847  0.77792871        nan 0.78270493        nan        nan\n",
      " 0.76687263 0.76836227        nan 0.76912679        nan        nan\n",
      " 0.76670141 0.7675264         nan 0.76851392        nan        nan]\n",
      "  warnings.warn(\n"
     ]
    },
    {
     "name": "stdout",
     "output_type": "stream",
     "text": [
      "최적 하이퍼파라미터: {'gbm__learning_rate': 0.05, 'gbm__max_depth': 5, 'gbm__n_estimators': 200, 'gbm__subsample': 1.0, 'smote__sampling_strategy': 0.5, 'undersample__sampling_strategy': 0.5}\n",
      "최고 ROC AUC: 0.7893300329785164\n",
      "\n",
      "📌 Classification Report:\n",
      "              precision    recall  f1-score   support\n",
      "\n",
      "           0       0.92      0.97      0.95     10965\n",
      "           1       0.61      0.32      0.42      1392\n",
      "\n",
      "    accuracy                           0.90     12357\n",
      "   macro avg       0.77      0.65      0.68     12357\n",
      "weighted avg       0.88      0.90      0.89     12357\n",
      "\n",
      "✅ Accuracy: 0.9008\n",
      "✅ Precision: 0.6146\n",
      "✅ Recall: 0.3197\n",
      "✅ F1-score: 0.4206\n",
      "✅ ROC AUC: 0.8072\n",
      "\n",
      "📌 Confusion Matrix:\n",
      "[[10686   279]\n",
      " [  947   445]]\n"
     ]
    }
   ],
   "source": [
    "X_train, X_val, y_train, y_val = train_test_split(X, y, test_size=0.3, random_state=42, stratify=y)\n",
    "\n",
    "pipeline = Pipeline([\n",
    "    ('smote', SMOTE(random_state=42)),\n",
    "    ('undersample', RandomUnderSampler(random_state=42)),\n",
    "    ('gbm', GradientBoostingClassifier(random_state=42))\n",
    "])\n",
    "\n",
    "param_grid = {\n",
    "    'smote__sampling_strategy': [0.5, 0.7, 1.0],  # 오버샘플링 비율\n",
    "    'undersample__sampling_strategy': [0.5, 0.8],  # 언더샘플링 비율\n",
    "    'gbm__n_estimators': [50, 100, 200],\n",
    "    'gbm__max_depth': [3, 5, 8],\n",
    "    'gbm__learning_rate': [0.01, 0.05, 0.1],\n",
    "    'gbm__subsample': [0.8, 1.0],\n",
    "}\n",
    "\n",
    "grid_search = GridSearchCV(\n",
    "    pipeline,\n",
    "    param_grid,\n",
    "    cv=3,\n",
    "    scoring='roc_auc',\n",
    "    n_jobs=-1,\n",
    "    verbose=1\n",
    ")\n",
    "\n",
    "grid_search.fit(X_train, y_train)\n",
    "\n",
    "print(\"최적 하이퍼파라미터:\", grid_search.best_params_)\n",
    "print(\"최고 ROC AUC:\", grid_search.best_score_)\n",
    "\n",
    "best_gbm = grid_search.best_estimator_\n",
    "y_pred_prob = best_gbm.predict_proba(X_val)[:, 1]\n",
    "y_pred_best = best_gbm.predict(X_val)\n",
    "\n",
    "print_metrics(y_val, y_pred_best, y_pred_prob)"
   ]
  },
  {
   "cell_type": "code",
   "execution_count": 10,
   "metadata": {
    "colab": {
     "base_uri": "https://localhost:8080/",
     "height": 180
    },
    "executionInfo": {
     "elapsed": 267,
     "status": "error",
     "timestamp": 1741792909600,
     "user": {
      "displayName": "22 lab",
      "userId": "07927664234515565497"
     },
     "user_tz": -540
    },
    "id": "cesz8juEVBao",
    "outputId": "8f3b898f-f686-4caf-e9e4-194e80ed30f4"
   },
   "outputs": [
    {
     "ename": "NameError",
     "evalue": "name 'pickle' is not defined",
     "output_type": "error",
     "traceback": [
      "\u001b[0;31m---------------------------------------------------------------------------\u001b[0m",
      "\u001b[0;31mNameError\u001b[0m                                 Traceback (most recent call last)",
      "\u001b[0;32m<ipython-input-10-8e1b747ff759>\u001b[0m in \u001b[0;36m<cell line: 0>\u001b[0;34m()\u001b[0m\n\u001b[1;32m      1\u001b[0m \u001b[0mbest_xgb\u001b[0m \u001b[0;34m=\u001b[0m \u001b[0mgrid_search\u001b[0m\u001b[0;34m.\u001b[0m\u001b[0mbest_estimator_\u001b[0m\u001b[0;34m\u001b[0m\u001b[0;34m\u001b[0m\u001b[0m\n\u001b[1;32m      2\u001b[0m \u001b[0;32mwith\u001b[0m \u001b[0mopen\u001b[0m\u001b[0;34m(\u001b[0m\u001b[0;34m\"/content/drive/MyDrive/bank_marketing/model/gradient_over+under.pkl\"\u001b[0m\u001b[0;34m,\u001b[0m \u001b[0;34m\"wb\"\u001b[0m\u001b[0;34m)\u001b[0m \u001b[0;32mas\u001b[0m \u001b[0mmodel_file\u001b[0m\u001b[0;34m:\u001b[0m\u001b[0;34m\u001b[0m\u001b[0;34m\u001b[0m\u001b[0m\n\u001b[0;32m----> 3\u001b[0;31m     \u001b[0mpickle\u001b[0m\u001b[0;34m.\u001b[0m\u001b[0mdump\u001b[0m\u001b[0;34m(\u001b[0m\u001b[0mbest_xgb\u001b[0m\u001b[0;34m,\u001b[0m \u001b[0mmodel_file\u001b[0m\u001b[0;34m)\u001b[0m\u001b[0;34m\u001b[0m\u001b[0;34m\u001b[0m\u001b[0m\n\u001b[0m",
      "\u001b[0;31mNameError\u001b[0m: name 'pickle' is not defined"
     ]
    }
   ],
   "source": [
    "best_xgb = grid_search.best_estimator_\n",
    "with open(\"/content/drive/MyDrive/bank_marketing/model/gradient_over+under.pkl\", \"wb\") as model_file:\n",
    "    pickle.dump(best_xgb, model_file)"
   ]
  },
  {
   "cell_type": "code",
   "execution_count": null,
   "metadata": {
    "id": "jz7t-pUVVBYg"
   },
   "outputs": [],
   "source": []
  },
  {
   "cell_type": "code",
   "execution_count": null,
   "metadata": {
    "id": "gcPW2wgJVBWK"
   },
   "outputs": [],
   "source": []
  }
 ],
 "metadata": {
  "accelerator": "GPU",
  "colab": {
   "authorship_tag": "ABX9TyNUn8zbkPD+nYDMnCw7JSJH",
   "gpuType": "T4",
   "mount_file_id": "1L_DzGzXOvK24MQPmvnLfBJLP7qKna9ll",
   "provenance": []
  },
  "kernelspec": {
   "display_name": "Python 3",
   "name": "python3"
  },
  "language_info": {
   "name": "python"
  }
 },
 "nbformat": 4,
 "nbformat_minor": 0
}
